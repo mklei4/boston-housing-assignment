{
 "cells": [
  {
   "cell_type": "markdown",
   "metadata": {},
   "source": [
    "## Boston Housing Assignment\n",
    "\n",
    "In this assignment you'll be using linear regression to estimate the cost of house in boston, using a well known dataset.\n",
    "\n",
    "Goals:\n",
    "+  Measure the performance of the model I created using $R^{2}$ and MSE\n",
    "> Learn how to use sklearn.metrics.r2_score and sklearn.metrics.mean_squared_error\n",
    "+  Implement a new model using L2 regularization\n",
    "> Use sklearn.linear_model.Ridge or sklearn.linear_model.Lasso \n",
    "+  Get the best model you can by optimizing the regularization parameter.   "
   ]
  },
  {
   "cell_type": "code",
   "execution_count": 1,
   "metadata": {
    "collapsed": false
   },
   "outputs": [],
   "source": [
    "from sklearn import datasets\n",
    "import pandas as pd\n",
    "from sklearn.preprocessing import StandardScaler\n",
    "from sklearn.cross_validation import train_test_split\n",
    "from sklearn.metrics import mean_squared_error\n",
    "from sklearn.metrics import r2_score\n",
    "from sklearn.linear_model import LinearRegression"
   ]
  },
  {
   "cell_type": "code",
   "execution_count": 2,
   "metadata": {
    "collapsed": false
   },
   "outputs": [
    {
     "name": "stdout",
     "output_type": "stream",
     "text": [
      "Boston House Prices dataset\n",
      "\n",
      "Notes\n",
      "------\n",
      "Data Set Characteristics:  \n",
      "\n",
      "    :Number of Instances: 506 \n",
      "\n",
      "    :Number of Attributes: 13 numeric/categorical predictive\n",
      "    \n",
      "    :Median Value (attribute 14) is usually the target\n",
      "\n",
      "    :Attribute Information (in order):\n",
      "        - CRIM     per capita crime rate by town\n",
      "        - ZN       proportion of residential land zoned for lots over 25,000 sq.ft.\n",
      "        - INDUS    proportion of non-retail business acres per town\n",
      "        - CHAS     Charles River dummy variable (= 1 if tract bounds river; 0 otherwise)\n",
      "        - NOX      nitric oxides concentration (parts per 10 million)\n",
      "        - RM       average number of rooms per dwelling\n",
      "        - AGE      proportion of owner-occupied units built prior to 1940\n",
      "        - DIS      weighted distances to five Boston employment centres\n",
      "        - RAD      index of accessibility to radial highways\n",
      "        - TAX      full-value property-tax rate per $10,000\n",
      "        - PTRATIO  pupil-teacher ratio by town\n",
      "        - B        1000(Bk - 0.63)^2 where Bk is the proportion of blacks by town\n",
      "        - LSTAT    % lower status of the population\n",
      "        - MEDV     Median value of owner-occupied homes in $1000's\n",
      "\n",
      "    :Missing Attribute Values: None\n",
      "\n",
      "    :Creator: Harrison, D. and Rubinfeld, D.L.\n",
      "\n",
      "This is a copy of UCI ML housing dataset.\n",
      "http://archive.ics.uci.edu/ml/datasets/Housing\n",
      "\n",
      "\n",
      "This dataset was taken from the StatLib library which is maintained at Carnegie Mellon University.\n",
      "\n",
      "The Boston house-price data of Harrison, D. and Rubinfeld, D.L. 'Hedonic\n",
      "prices and the demand for clean air', J. Environ. Economics & Management,\n",
      "vol.5, 81-102, 1978.   Used in Belsley, Kuh & Welsch, 'Regression diagnostics\n",
      "...', Wiley, 1980.   N.B. Various transformations are used in the table on\n",
      "pages 244-261 of the latter.\n",
      "\n",
      "The Boston house-price data has been used in many machine learning papers that address regression\n",
      "problems.   \n",
      "     \n",
      "**References**\n",
      "\n",
      "   - Belsley, Kuh & Welsch, 'Regression diagnostics: Identifying Influential Data and Sources of Collinearity', Wiley, 1980. 244-261.\n",
      "   - Quinlan,R. (1993). Combining Instance-Based and Model-Based Learning. In Proceedings on the Tenth International Conference of Machine Learning, 236-243, University of Massachusetts, Amherst. Morgan Kaufmann.\n",
      "   - many more! (see http://archive.ics.uci.edu/ml/datasets/Housing)\n",
      "\n"
     ]
    }
   ],
   "source": [
    "bean = datasets.load_boston()\n",
    "print(bean.DESCR)"
   ]
  },
  {
   "cell_type": "code",
   "execution_count": 3,
   "metadata": {
    "collapsed": false
   },
   "outputs": [],
   "source": [
    "def load_boston():\n",
    "    scaler = StandardScaler()\n",
    "    boston = datasets.load_boston()\n",
    "    X=boston.data\n",
    "    y=boston.target\n",
    "    X = scaler.fit_transform(X)\n",
    "    return train_test_split(X,y)\n",
    "    "
   ]
  },
  {
   "cell_type": "code",
   "execution_count": 4,
   "metadata": {
    "collapsed": false
   },
   "outputs": [],
   "source": [
    "X_train, X_test, y_train, y_test = load_boston()"
   ]
  },
  {
   "cell_type": "code",
   "execution_count": 5,
   "metadata": {
    "collapsed": false
   },
   "outputs": [
    {
     "data": {
      "text/plain": [
       "(379, 13)"
      ]
     },
     "execution_count": 5,
     "metadata": {},
     "output_type": "execute_result"
    }
   ],
   "source": [
    "X_train.shape"
   ]
  },
  {
   "cell_type": "markdown",
   "metadata": {},
   "source": [
    "### Fitting a Linear Regression\n",
    "\n",
    "It's as easy as instantiating a new regression object (line 1) and giving your regression object your training data\n",
    "(line 2) by calling .fit(independent variables, dependent variable)\n",
    "\n"
   ]
  },
  {
   "cell_type": "code",
   "execution_count": 6,
   "metadata": {
    "collapsed": false
   },
   "outputs": [
    {
     "data": {
      "text/plain": [
       "LinearRegression(copy_X=True, fit_intercept=True, n_jobs=1, normalize=False)"
      ]
     },
     "execution_count": 6,
     "metadata": {},
     "output_type": "execute_result"
    }
   ],
   "source": [
    "clf = LinearRegression()\n",
    "clf.fit(X_train, y_train)"
   ]
  },
  {
   "cell_type": "markdown",
   "metadata": {},
   "source": [
    "### Making a Prediction\n",
    "X_test is our holdout set of data.  We know the answer (y_test) but the computer does not.   \n",
    "\n",
    "Using the command below, I create a tuple for each observation, where I'm combining the real value (y_test) with\n",
    "the value our regressor predicts (clf.predict(X_test))\n",
    "\n",
    "Use a similiar format to get your r2 and mse metrics working.  Using the [scikit learn api](http://scikit-learn.org/stable/modules/model_evaluation.html) if you need help!"
   ]
  },
  {
   "cell_type": "code",
   "execution_count": 7,
   "metadata": {
    "collapsed": false
   },
   "outputs": [
    {
     "data": {
      "text/plain": [
       "[(17.699999999999999, 20.468084407718234),\n",
       " (15.4, 18.210280083848915),\n",
       " (15.6, 15.706865981828631),\n",
       " (23.199999999999999, 17.690916576535301),\n",
       " (19.5, 18.926094188834611),\n",
       " (34.700000000000003, 30.356779475257607),\n",
       " (24.399999999999999, 23.679498870724313),\n",
       " (8.3000000000000007, 11.052817808926841),\n",
       " (13.1, 20.623027808005965),\n",
       " (18.300000000000001, 20.779572924133603),\n",
       " (17.399999999999999, 22.94108620835835),\n",
       " (24.100000000000001, 20.176818703525669),\n",
       " (25.0, 22.42090692530023),\n",
       " (29.399999999999999, 31.072913765485644),\n",
       " (31.600000000000001, 34.090906772625715),\n",
       " (21.600000000000001, 25.073927158084906),\n",
       " (22.699999999999999, 24.999306282649407),\n",
       " (24.100000000000001, 30.150496440774607),\n",
       " (21.100000000000001, 20.686230800029609),\n",
       " (16.100000000000001, 22.7073507182165),\n",
       " (21.800000000000001, 21.574830688757618),\n",
       " (32.899999999999999, 30.914426448698585),\n",
       " (28.5, 34.473546444106972),\n",
       " (13.1, 14.54034445124363),\n",
       " (14.9, 16.143802739508068),\n",
       " (14.5, 18.212215047438413),\n",
       " (18.399999999999999, 19.119668929282092),\n",
       " (17.0, 22.190912632553498),\n",
       " (8.0999999999999996, 2.98301424902224),\n",
       " (43.100000000000001, 37.643403312185342),\n",
       " (13.4, 14.288483632347251),\n",
       " (18.800000000000001, 20.89164782544136),\n",
       " (20.600000000000001, 22.597779897810174),\n",
       " (20.0, 18.838239356342118),\n",
       " (30.100000000000001, 30.280512549315144),\n",
       " (19.5, 17.473622700031214),\n",
       " (22.899999999999999, 20.092703917920709),\n",
       " (18.100000000000001, 16.859398379695087),\n",
       " (28.199999999999999, 33.77212428029398),\n",
       " (22.199999999999999, 26.337064986300238),\n",
       " (18.399999999999999, 19.425856220617064),\n",
       " (23.199999999999999, 26.043197884733001),\n",
       " (33.200000000000003, 35.846200260949402),\n",
       " (16.399999999999999, 19.447553891353152),\n",
       " (26.199999999999999, 23.791578082182983),\n",
       " (20.300000000000001, 22.4099733411797),\n",
       " (7.2000000000000002, 10.282303266861931),\n",
       " (24.0, 25.853240868280132),\n",
       " (20.5, 24.261571999680815),\n",
       " (21.399999999999999, 22.367794734371845),\n",
       " (8.4000000000000004, 5.4865561222421491),\n",
       " (21.399999999999999, 23.830070411158374),\n",
       " (50.0, 41.118555637429381),\n",
       " (18.5, 25.447913608338837),\n",
       " (50.0, 36.670089640452446),\n",
       " (20.300000000000001, 22.7661146455745),\n",
       " (14.1, 19.546051796447085),\n",
       " (16.699999999999999, 20.834151528463664),\n",
       " (8.6999999999999993, 9.7134989028870606),\n",
       " (16.800000000000001, 20.792386409602255),\n",
       " (17.800000000000001, 16.15606415601497),\n",
       " (20.0, 22.908464071843419),\n",
       " (13.1, 15.838046985784263),\n",
       " (18.600000000000001, 20.700246511462726),\n",
       " (29.0, 32.15494171265869),\n",
       " (10.199999999999999, 17.742459657975026),\n",
       " (23.300000000000001, 28.755279048462874),\n",
       " (16.699999999999999, 20.091041285322284),\n",
       " (24.800000000000001, 25.048186601552938),\n",
       " (28.399999999999999, 28.929530006078711),\n",
       " (21.199999999999999, 21.506007223474874),\n",
       " (21.699999999999999, 21.695401813933955),\n",
       " (14.800000000000001, 14.82398988805301),\n",
       " (13.9, 13.724640948599028),\n",
       " (24.800000000000001, 31.160951173946692),\n",
       " (23.800000000000001, 23.620130036820587),\n",
       " (13.800000000000001, 12.011207660929143),\n",
       " (21.0, 20.721286440083343),\n",
       " (22.100000000000001, 27.281107053160603),\n",
       " (36.0, 37.126093363147326),\n",
       " (11.800000000000001, 13.989799527979327),\n",
       " (13.199999999999999, 8.8821321522821393),\n",
       " (23.899999999999999, 25.675671236312507),\n",
       " (36.200000000000003, 28.510853655573726),\n",
       " (7.2000000000000002, 18.029511001748659),\n",
       " (25.0, 25.913049554581296),\n",
       " (19.800000000000001, 18.479172019385434),\n",
       " (21.199999999999999, 22.452104342990534),\n",
       " (21.699999999999999, 22.499184249680781),\n",
       " (22.300000000000001, 27.784049947009208),\n",
       " (24.600000000000001, 29.685488606770921),\n",
       " (31.699999999999999, 33.500499261118037),\n",
       " (25.199999999999999, 27.613446976307991),\n",
       " (26.600000000000001, 21.556863424544723),\n",
       " (7.4000000000000004, 5.9320702126932723),\n",
       " (13.0, 17.619963402003663),\n",
       " (23.100000000000001, 25.006008234332853),\n",
       " (21.699999999999999, 24.075406732506913),\n",
       " (20.399999999999999, 19.618405472598972),\n",
       " (20.100000000000001, 19.032473257704318),\n",
       " (11.9, 9.2765958017407879),\n",
       " (17.800000000000001, 22.292244759084756),\n",
       " (39.799999999999997, 34.852109246602815),\n",
       " (28.0, 28.607035924396715),\n",
       " (21.399999999999999, 20.572619606220204),\n",
       " (18.699999999999999, 20.842663657340363),\n",
       " (23.899999999999999, 28.115204325387619),\n",
       " (23.600000000000001, 29.653627839009992),\n",
       " (14.1, 16.742997154591752),\n",
       " (21.0, 21.323882811240679),\n",
       " (38.700000000000003, 35.484653924434994),\n",
       " (22.600000000000001, 22.83362230809659),\n",
       " (17.199999999999999, 14.264928410390475),\n",
       " (19.899999999999999, 18.447324598110981),\n",
       " (15.0, 16.527223632375041),\n",
       " (22.800000000000001, 26.500748844293319),\n",
       " (22.0, 26.160846964958321),\n",
       " (22.800000000000001, 29.425924923755097),\n",
       " (28.399999999999999, 31.82175580048435),\n",
       " (25.0, 27.710543498859501),\n",
       " (20.300000000000001, 19.352346607078189),\n",
       " (44.799999999999997, 38.350911440117798),\n",
       " (9.5, 13.926355671935898),\n",
       " (31.5, 32.829385467685789),\n",
       " (23.800000000000001, 24.983043023405081),\n",
       " (11.699999999999999, 16.930317864766881),\n",
       " (29.800000000000001, 25.767879184604258)]"
      ]
     },
     "execution_count": 7,
     "metadata": {},
     "output_type": "execute_result"
    }
   ],
   "source": [
    "list(zip (y_test, clf.predict(X_test)))"
   ]
  },
  {
   "cell_type": "markdown",
   "metadata": {
    "collapsed": false
   },
   "source": [
    "### CSC570R Module 2 - Boston Housing Assignment\n",
    "\n",
    "Melanie Klein\n",
    "\n",
    "12 February 2017"
   ]
  },
  {
   "cell_type": "code",
   "execution_count": 8,
   "metadata": {
    "collapsed": false
   },
   "outputs": [
    {
     "data": {
      "text/plain": [
       "14.505441354853557"
      ]
     },
     "execution_count": 8,
     "metadata": {},
     "output_type": "execute_result"
    }
   ],
   "source": [
    "#calculate the MSE for Mike's linear regression model\n",
    "mean_squared_error(y_test, clf.predict(X_test))"
   ]
  },
  {
   "cell_type": "code",
   "execution_count": 9,
   "metadata": {
    "collapsed": false
   },
   "outputs": [
    {
     "data": {
      "text/plain": [
       "0.77551316806731807"
      ]
     },
     "execution_count": 9,
     "metadata": {},
     "output_type": "execute_result"
    }
   ],
   "source": [
    "#calculate R-squared for Mike's linear regression model\n",
    "r2_score(y_test, clf.predict(X_test))"
   ]
  },
  {
   "cell_type": "code",
   "execution_count": 10,
   "metadata": {
    "collapsed": true
   },
   "outputs": [],
   "source": [
    "#implement Lasso linear regression model\n",
    "from sklearn.linear_model import Lasso"
   ]
  },
  {
   "cell_type": "code",
   "execution_count": 11,
   "metadata": {
    "collapsed": false
   },
   "outputs": [
    {
     "data": {
      "text/plain": [
       "Lasso(alpha=0.03, copy_X=True, fit_intercept=True, max_iter=1000,\n",
       "   normalize=False, positive=False, precompute=False, random_state=None,\n",
       "   selection='cyclic', tol=0.0001, warm_start=False)"
      ]
     },
     "execution_count": 11,
     "metadata": {},
     "output_type": "execute_result"
    }
   ],
   "source": [
    "lasso = Lasso(alpha=0.03)\n",
    "lasso.fit(X_train, y_train)"
   ]
  },
  {
   "cell_type": "code",
   "execution_count": 12,
   "metadata": {
    "collapsed": false
   },
   "outputs": [
    {
     "data": {
      "text/plain": [
       "14.1226086365391"
      ]
     },
     "execution_count": 12,
     "metadata": {},
     "output_type": "execute_result"
    }
   ],
   "source": [
    "#calculate MSE for Lasso model\n",
    "mean_squared_error(y_test, lasso.predict(X_test))"
   ]
  },
  {
   "cell_type": "code",
   "execution_count": 13,
   "metadata": {
    "collapsed": false
   },
   "outputs": [
    {
     "data": {
      "text/plain": [
       "0.78143790361945853"
      ]
     },
     "execution_count": 13,
     "metadata": {},
     "output_type": "execute_result"
    }
   ],
   "source": [
    "#calculate R-squared for Lasso model\n",
    "r2_score(y_test, lasso.predict(X_test))"
   ]
  },
  {
   "cell_type": "markdown",
   "metadata": {},
   "source": [
    "### Comments\n",
    "<li>Lasso model, with an alpha value set to 0.03, provides marginal improvement over the Ordinary Least Squares linear regression model\n",
    "<li>Alpha values between 0 and 1 all resulted in MSE and R^2 values similar to that of the Ordinary Lease Squares model\n",
    "<li>As alpha values increased beyond 1, MSE grew and R^2 decreased, suggesting a less accurate model"
   ]
  },
  {
   "cell_type": "code",
   "execution_count": null,
   "metadata": {
    "collapsed": true
   },
   "outputs": [],
   "source": []
  }
 ],
 "metadata": {
  "anaconda-cloud": {},
  "kernelspec": {
   "display_name": "Python [default]",
   "language": "python",
   "name": "python3"
  },
  "language_info": {
   "codemirror_mode": {
    "name": "ipython",
    "version": 3
   },
   "file_extension": ".py",
   "mimetype": "text/x-python",
   "name": "python",
   "nbconvert_exporter": "python",
   "pygments_lexer": "ipython3",
   "version": "3.5.2"
  }
 },
 "nbformat": 4,
 "nbformat_minor": 0
}
